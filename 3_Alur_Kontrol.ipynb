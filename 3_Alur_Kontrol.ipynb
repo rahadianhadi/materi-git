{
  "nbformat": 4,
  "nbformat_minor": 0,
  "metadata": {
    "colab": {
      "provenance": [],
      "authorship_tag": "ABX9TyPnkw4EMC0JHu9L35bMUXz5",
      "include_colab_link": true
    },
    "kernelspec": {
      "name": "python3",
      "display_name": "Python 3"
    },
    "language_info": {
      "name": "python"
    }
  },
  "cells": [
    {
      "cell_type": "markdown",
      "metadata": {
        "id": "view-in-github",
        "colab_type": "text"
      },
      "source": [
        "<a href=\"https://colab.research.google.com/github/rahadianhadi/materi-git/blob/main/3_Alur_Kontrol.ipynb\" target=\"_parent\"><img src=\"https://colab.research.google.com/assets/colab-badge.svg\" alt=\"Open In Colab\"/></a>"
      ]
    },
    {
      "cell_type": "markdown",
      "source": [
        "## Blok If\n",
        "\n",
        "Blok kode if pada Python strukturnya seperti ini:\n",
        "\n",
        "```\n",
        "if kondisi:\n",
        "  perintah()\n",
        "```\n",
        "\n"
      ],
      "metadata": {
        "id": "7gp9l64vVbq_"
      }
    },
    {
      "cell_type": "code",
      "source": [
        "if True:\n",
        "  print('Perintah ini akan dieksekusi')\n",
        "\n",
        "if False:\n",
        "  print('Perintah ini tidak akan pernah dieksekusi')\n",
        "\n",
        "print('Perintah ini akan selalu dieksekusi')"
      ],
      "metadata": {
        "colab": {
          "base_uri": "https://localhost:8080/"
        },
        "id": "rqKmD8MqXA2N",
        "outputId": "7c48458d-de7b-4063-ed0a-dc78579d2ba5"
      },
      "execution_count": null,
      "outputs": [
        {
          "output_type": "stream",
          "name": "stdout",
          "text": [
            "Perintah ini akan dieksekusi\n",
            "Perintah ini akan selalu dieksekusi\n"
          ]
        }
      ]
    },
    {
      "cell_type": "code",
      "source": [
        "\n",
        "if 3 > 6:\n",
        "  print('Nilai 3 lebih dari 6')\n",
        "\n",
        "if 6 > 3:\n",
        "  print('Nilai 6 lebih dari 3')\n"
      ],
      "metadata": {
        "colab": {
          "base_uri": "https://localhost:8080/"
        },
        "id": "P4hArpE-bZOr",
        "outputId": "e6621c16-a660-41eb-8564-00ad6b3c7ce7"
      },
      "execution_count": null,
      "outputs": [
        {
          "output_type": "stream",
          "name": "stdout",
          "text": [
            "Nilai 6 lebih dari 3\n"
          ]
        }
      ]
    },
    {
      "cell_type": "code",
      "source": [
        "# Blok if else\n",
        "\n",
        "nilai = 79\n",
        "\n",
        "print('Nilai anda adalah:', nilai)\n",
        "\n",
        "if nilai >= 80:\n",
        "  print('Selamat, anda lulus!')\n",
        "else:\n",
        "  print('Maaf, anda tidak lulus.')\n"
      ],
      "metadata": {
        "colab": {
          "base_uri": "https://localhost:8080/"
        },
        "id": "b88Xv59hcVs1",
        "outputId": "c7cc3f24-78c0-4bae-e976-87a7a2f0890f"
      },
      "execution_count": null,
      "outputs": [
        {
          "output_type": "stream",
          "name": "stdout",
          "text": [
            "Nilai anda adalah: 79\n",
            "Maaf, anda tidak lulus.\n"
          ]
        }
      ]
    },
    {
      "cell_type": "code",
      "source": [
        "# Blok if else\n",
        "\n",
        "nilai = 80\n",
        "\n",
        "print('Nilai anda adalah:', nilai)\n",
        "\n",
        "if nilai > 80:\n",
        "  print('Selamat, anda lulus!')\n",
        "else:\n",
        "  print('Maaf, anda tidak lulus.')\n"
      ],
      "metadata": {
        "colab": {
          "base_uri": "https://localhost:8080/"
        },
        "outputId": "b95882bc-3998-465f-a50a-f8d20fd32f04",
        "id": "Est7mgssdyab"
      },
      "execution_count": null,
      "outputs": [
        {
          "output_type": "stream",
          "name": "stdout",
          "text": [
            "Nilai anda adalah: 80\n",
            "Maaf, anda tidak lulus.\n"
          ]
        }
      ]
    },
    {
      "cell_type": "code",
      "source": [
        "# Blok if elseif else\n",
        "\n",
        "nilai = int(input('Masukkan nilai: '))\n",
        "\n",
        "if nilai >= 90:\n",
        "  print('Predikat A')\n",
        "elif nilai >= 80:\n",
        "  print('Predikat B')\n",
        "elif nilai >= 60:\n",
        "  print('Predikat C')\n",
        "elif nilai >= 40:\n",
        "  print('Predikat D')\n",
        "else:\n",
        "  print('Predikat E')\n",
        "  "
      ],
      "metadata": {
        "id": "K_ASgeu6c6BR"
      },
      "execution_count": null,
      "outputs": []
    },
    {
      "cell_type": "code",
      "source": [
        "\n",
        "# Contoh salah blok if tanpa elseif dari contoh sebelumnya\n",
        "\n",
        "nilai = int(input('Masukkan nilai: '))\n",
        "\n",
        "if nilai >= 90:\n",
        "  print('Predikat A')\n",
        "if nilai >= 80:\n",
        "  print('Predikat B')\n",
        "if nilai >= 60:\n",
        "  print('Predikat C')\n",
        "if nilai >= 40:\n",
        "  print('Predikat D')\n",
        "else:\n",
        "  print('Predikat E')\n",
        "  "
      ],
      "metadata": {
        "colab": {
          "base_uri": "https://localhost:8080/"
        },
        "id": "MPY6-Ufhn1J_",
        "outputId": "a28edfcd-c4e1-4c87-a2af-af6c01e0c9f5"
      },
      "execution_count": null,
      "outputs": [
        {
          "output_type": "stream",
          "name": "stdout",
          "text": [
            "Masukkan nilai: 80\n",
            "Predikat B\n",
            "Predikat C\n",
            "Predikat D\n"
          ]
        }
      ]
    },
    {
      "cell_type": "code",
      "source": [
        "# Blok if dengan operator logika\n",
        "\n",
        "keranjang_buah = ['rambutan', 'jeruk', 'apel', 'mangga', 'melon']\n",
        "nama_buah = input('Masukkan nama buah dalam huruf kecil: ')\n",
        "\n",
        "if (nama_buah in keranjang_buah):\n",
        "  print(f'Buah {nama_buah} yang anda cari tersedia!')\n",
        "else:\n",
        "  print(f'Buah {nama_buah} yang anda cari tidak tersedia!')\n"
      ],
      "metadata": {
        "colab": {
          "base_uri": "https://localhost:8080/"
        },
        "id": "NrBT923kooRd",
        "outputId": "ea5413a3-5b9f-4b29-a876-6e7eff606f15"
      },
      "execution_count": null,
      "outputs": [
        {
          "output_type": "stream",
          "name": "stdout",
          "text": [
            "Masukkan nama buah dalam huruf kecil: jeruk\n",
            "Buah jeruk yang anda cari tersedia!\n"
          ]
        }
      ]
    },
    {
      "cell_type": "code",
      "source": [
        "\n",
        "# If dalam satu baris\n",
        "\n",
        "nilai = int(input('Masukkan nilai: '))\n",
        "\n",
        "status = 'lulus' if nilai >= 80 else 'tidak lulus'\n",
        "\n",
        "print(status)\n",
        "\n",
        "\n"
      ],
      "metadata": {
        "id": "9ejNg6kwuwBg"
      },
      "execution_count": null,
      "outputs": []
    },
    {
      "cell_type": "code",
      "source": [
        "# Kode asli sebelum diubah ke ternary\n",
        "\n",
        "if nilai >= 80:\n",
        "  status = 'lulus'\n",
        "else:\n",
        "  status = 'tidak lulus'\n",
        "\n",
        "print(status)\n"
      ],
      "metadata": {
        "id": "ZBG5ptOWwWj9"
      },
      "execution_count": null,
      "outputs": []
    },
    {
      "cell_type": "code",
      "source": [
        "# Percabangan bertingkat\n",
        "\n",
        "nilai = int(input('Masukkan nilai: '))\n",
        "usia = int(input('Masukkan usia: '))\n",
        "\n",
        "if nilai >= 80:\n",
        "  if (usia < 15):\n",
        "    print('Selamat adik, kamu lulus!')\n",
        "  else:\n",
        "    print('Selamat kakak, kamu lulus!')\n",
        "else:\n",
        "  if (usia < 15):\n",
        "    print('Mohon maaf dik, coba lagi ya!')\n",
        "  else:\n",
        "    print('Mohon maaf kak, coba lagi ya!')\n"
      ],
      "metadata": {
        "id": "ZuQIyytAw-NA"
      },
      "execution_count": null,
      "outputs": []
    },
    {
      "cell_type": "code",
      "source": [
        "\n",
        "keranjang_buah = ['rambutan', 'jeruk', 'apel', 'mangga', 'melon']\n",
        "\n",
        "for buah in keranjang_buah:\n",
        "  print(buah)\n"
      ],
      "metadata": {
        "colab": {
          "base_uri": "https://localhost:8080/"
        },
        "id": "GpedV7BA18gT",
        "outputId": "80799a74-e1d5-457d-b336-7e5967204b99"
      },
      "execution_count": null,
      "outputs": [
        {
          "output_type": "stream",
          "name": "stdout",
          "text": [
            "rambutan\n",
            "jeruk\n",
            "apel\n",
            "mangga\n",
            "melon\n"
          ]
        }
      ]
    },
    {
      "cell_type": "code",
      "source": [
        "\n",
        "# Menggunakan fungsi enumerate untuk urutan iterasi\n",
        "keranjang_buah = ['rambutan', 'jeruk', 'apel', 'mangga', 'melon']\n",
        "\n",
        "for i, buah in enumerate(keranjang_buah):\n",
        "  print(i, buah)\n"
      ],
      "metadata": {
        "colab": {
          "base_uri": "https://localhost:8080/"
        },
        "id": "PCm0atn_3Iwu",
        "outputId": "ee0b965d-d957-4717-9433-7c9ef9953056"
      },
      "execution_count": null,
      "outputs": [
        {
          "output_type": "stream",
          "name": "stdout",
          "text": [
            "0 rambutan\n",
            "1 jeruk\n",
            "2 apel\n",
            "3 mangga\n",
            "4 melon\n"
          ]
        }
      ]
    },
    {
      "cell_type": "code",
      "source": [
        "# Menggunakan fungsi range()\n",
        "## sebanyak 5, mulai dari 0 sampai 4\n",
        "\n",
        "for i in range(5):\n",
        "  print(\"Perulangan ke -\", i)\n"
      ],
      "metadata": {
        "colab": {
          "base_uri": "https://localhost:8080/"
        },
        "id": "zzMRmfvt3tzO",
        "outputId": "69c488c1-9df9-4d55-dd0c-6418886b2ac0"
      },
      "execution_count": null,
      "outputs": [
        {
          "output_type": "stream",
          "name": "stdout",
          "text": [
            "Perulangan ke - 0\n",
            "Perulangan ke - 1\n",
            "Perulangan ke - 2\n",
            "Perulangan ke - 3\n",
            "Perulangan ke - 4\n"
          ]
        }
      ]
    },
    {
      "cell_type": "code",
      "source": [
        "# Menggunakan fungsi range()\n",
        "## sebanyak 5, mulai dari 1 sampai 5\n",
        "\n",
        "for i in range(1, 6):\n",
        "  print(\"Perulangan ke -\", i)\n"
      ],
      "metadata": {
        "colab": {
          "base_uri": "https://localhost:8080/"
        },
        "id": "6W3w5dw84Q8Z",
        "outputId": "88571586-b9f8-4c9e-e6d5-2b3c1ce54790"
      },
      "execution_count": null,
      "outputs": [
        {
          "output_type": "stream",
          "name": "stdout",
          "text": [
            "Perulangan ke - 1\n",
            "Perulangan ke - 2\n",
            "Perulangan ke - 3\n",
            "Perulangan ke - 4\n",
            "Perulangan ke - 5\n"
          ]
        }
      ]
    },
    {
      "cell_type": "code",
      "source": [
        "# Menggunakan fungsi range()\n",
        "## Bilangan genap kelipatan 2\n",
        "\n",
        "for i in range(2, 12, 2):\n",
        "  print(\"Perulangan ke -\", i)\n",
        "  "
      ],
      "metadata": {
        "colab": {
          "base_uri": "https://localhost:8080/"
        },
        "id": "1tnepUHN5KP2",
        "outputId": "836c3b22-0f54-4548-9b70-678dbcb37d24"
      },
      "execution_count": null,
      "outputs": [
        {
          "output_type": "stream",
          "name": "stdout",
          "text": [
            "Perulangan ke - 2\n",
            "Perulangan ke - 4\n",
            "Perulangan ke - 6\n",
            "Perulangan ke - 8\n",
            "Perulangan ke - 10\n"
          ]
        }
      ]
    },
    {
      "cell_type": "code",
      "source": [
        "# Selain list, tuple juga bisa digunakan\n",
        "keranjang_buah = ('rambutan', 'jeruk', 'apel', 'mangga', 'melon', )\n",
        "\n",
        "for buah in keranjang_buah:\n",
        "  print(buah)"
      ],
      "metadata": {
        "colab": {
          "base_uri": "https://localhost:8080/"
        },
        "id": "78RTH9oE6eU9",
        "outputId": "b3ee1f9a-e3bc-45d8-ba3a-0bb391c10897"
      },
      "execution_count": null,
      "outputs": [
        {
          "output_type": "stream",
          "name": "stdout",
          "text": [
            "rambutan\n",
            "jeruk\n",
            "apel\n",
            "mangga\n",
            "melon\n"
          ]
        }
      ]
    },
    {
      "cell_type": "code",
      "source": [
        "\n",
        "for huruf in \"Python\":\n",
        "  print(huruf)\n",
        "  "
      ],
      "metadata": {
        "colab": {
          "base_uri": "https://localhost:8080/"
        },
        "id": "iDmQ4D6J7ANo",
        "outputId": "c8111124-509e-4e0e-beec-b741fbdacda8"
      },
      "execution_count": null,
      "outputs": [
        {
          "output_type": "stream",
          "name": "stdout",
          "text": [
            "P\n",
            "y\n",
            "t\n",
            "h\n",
            "o\n",
            "n\n"
          ]
        }
      ]
    },
    {
      "cell_type": "code",
      "source": [
        "\n",
        "for i in range(1, 10):\n",
        "  # skip jika i == 5\n",
        "  if (i == 5):\n",
        "    continue\n",
        "  \n",
        "  print(i)\n",
        "  "
      ],
      "metadata": {
        "colab": {
          "base_uri": "https://localhost:8080/"
        },
        "id": "YNMBD9CEYaj-",
        "outputId": "9a8f18f1-34f7-43f0-dc4b-1283cfe111b5"
      },
      "execution_count": null,
      "outputs": [
        {
          "output_type": "stream",
          "name": "stdout",
          "text": [
            "1\n",
            "2\n",
            "3\n",
            "4\n",
            "6\n",
            "7\n",
            "8\n",
            "9\n"
          ]
        }
      ]
    },
    {
      "cell_type": "code",
      "source": [
        "for i in range(1, 10):\n",
        "  # stop jika i == 5\n",
        "  if (i == 5):\n",
        "    break\n",
        "  \n",
        "  print(i)\n",
        "  "
      ],
      "metadata": {
        "colab": {
          "base_uri": "https://localhost:8080/"
        },
        "id": "FdqljYTnY8-5",
        "outputId": "74c12666-6c4f-4ff0-a4f6-25636c1383a0"
      },
      "execution_count": null,
      "outputs": [
        {
          "output_type": "stream",
          "name": "stdout",
          "text": [
            "1\n",
            "2\n",
            "3\n",
            "4\n"
          ]
        }
      ]
    },
    {
      "cell_type": "code",
      "source": [
        "\n",
        "daftar_kota = [\n",
        "  'Bandung', 'Jakarta', 'Surabaya', 'Depok', 'Bekasi', \n",
        "  'Jogjakarta', 'Semarang', 'Makassar', 'Solo',\n",
        "]\n",
        "\n",
        "for kota in daftar_kota:\n",
        "  print(kota)\n",
        "else:\n",
        "  print('Tidak ada lagi item yang tersisa')\n"
      ],
      "metadata": {
        "colab": {
          "base_uri": "https://localhost:8080/"
        },
        "id": "CB9aM1TkZhEF",
        "outputId": "ebfa5f69-cd65-48d1-f7f4-878199887442"
      },
      "execution_count": null,
      "outputs": [
        {
          "output_type": "stream",
          "name": "stdout",
          "text": [
            "Bandung\n",
            "Jakarta\n",
            "Surabaya\n",
            "Depok\n",
            "Bekasi\n",
            "Jogjakarta\n",
            "Semarang\n",
            "Makassar\n",
            "Solo\n",
            "Tidak ada lagi item yang tersisa\n"
          ]
        }
      ]
    },
    {
      "cell_type": "code",
      "source": [
        "\n",
        "daftar_kota = [\n",
        "  'Bandung', 'Jakarta', 'Surabaya', 'Depok', 'Bekasi', \n",
        "  'Jogjakarta', 'Semarang', 'Makassar', 'Solo',\n",
        "]\n",
        "\n",
        "for kota in daftar_kota:\n",
        "  if kota == 'Depok':\n",
        "    break\n",
        "  print(kota)\n",
        "else:\n",
        "  print('Tidak ada lagi item yang tersisa')"
      ],
      "metadata": {
        "colab": {
          "base_uri": "https://localhost:8080/"
        },
        "id": "lm6vLtenaTJq",
        "outputId": "c9ef979b-be0d-42fe-c6cf-1f962c93d246"
      },
      "execution_count": null,
      "outputs": [
        {
          "output_type": "stream",
          "name": "stdout",
          "text": [
            "Bandung\n",
            "Jakarta\n",
            "Surabaya\n"
          ]
        }
      ]
    },
    {
      "cell_type": "code",
      "source": [
        "\n",
        "while (1 + 2 == 3):\n",
        "  print('Halo Python!')\n",
        "\n",
        "\n"
      ],
      "metadata": {
        "id": "LdCCv6ikdL9D"
      },
      "execution_count": null,
      "outputs": []
    },
    {
      "cell_type": "code",
      "source": [
        "\n",
        "\n",
        "i = 1\n",
        "\n",
        "while i <= 5:\n",
        "  print(i)\n",
        "  i += 1\n",
        "\n",
        "  "
      ],
      "metadata": {
        "colab": {
          "base_uri": "https://localhost:8080/"
        },
        "id": "0lgyWapJe1HS",
        "outputId": "755ac5cb-d4cf-445a-8712-b5190ca66d0d"
      },
      "execution_count": null,
      "outputs": [
        {
          "output_type": "stream",
          "name": "stdout",
          "text": [
            "1\n",
            "2\n",
            "3\n",
            "4\n",
            "5\n"
          ]
        }
      ]
    },
    {
      "cell_type": "code",
      "source": [
        "\n",
        "daftar_kota = [\n",
        "  'Bandung', 'Jakarta', 'Surabaya', 'Depok', 'Bekasi', \n",
        "  'Jogjakarta', 'Semarang', 'Makassar', 'Solo',\n",
        "]\n",
        "\n",
        "i = 0 # tentukan posisi awal\n",
        "while i < len(daftar_kota):\n",
        "  print(daftar_kota[i])\n",
        "  \n",
        "  i += 1 # jangan lupa tambahkan nilai 1 ke var i\n"
      ],
      "metadata": {
        "colab": {
          "base_uri": "https://localhost:8080/"
        },
        "id": "2xBjhILVgNiD",
        "outputId": "686415d1-c670-432b-b015-89be65ed9944"
      },
      "execution_count": null,
      "outputs": [
        {
          "output_type": "stream",
          "name": "stdout",
          "text": [
            "Bandung\n",
            "Jakarta\n",
            "Surabaya\n",
            "Depok\n",
            "Bekasi\n",
            "Jogjakarta\n",
            "Semarang\n",
            "Makassar\n",
            "Solo\n"
          ]
        }
      ]
    },
    {
      "cell_type": "code",
      "source": [
        "\n",
        "\n",
        "for i in range(3):\n",
        "  print('Perulangan luar [i] = ', i)\n",
        "\n",
        "  for j in range(5):\n",
        "    print('   Perulangan dalam [i, j] = ', str(i) + ', ' + str(j))\n",
        "\n",
        "  "
      ],
      "metadata": {
        "colab": {
          "base_uri": "https://localhost:8080/"
        },
        "id": "Hl7drrmrimcU",
        "outputId": "e44544bb-4cf7-4db8-f9fd-885ba5fed8a1"
      },
      "execution_count": null,
      "outputs": [
        {
          "output_type": "stream",
          "name": "stdout",
          "text": [
            "Perulangan luar [i] =  0\n",
            "   Perulangan dalam [i, j] =  0, 0\n",
            "   Perulangan dalam [i, j] =  0, 1\n",
            "   Perulangan dalam [i, j] =  0, 2\n",
            "   Perulangan dalam [i, j] =  0, 3\n",
            "   Perulangan dalam [i, j] =  0, 4\n",
            "Perulangan luar [i] =  1\n",
            "   Perulangan dalam [i, j] =  1, 0\n",
            "   Perulangan dalam [i, j] =  1, 1\n",
            "   Perulangan dalam [i, j] =  1, 2\n",
            "   Perulangan dalam [i, j] =  1, 3\n",
            "   Perulangan dalam [i, j] =  1, 4\n",
            "Perulangan luar [i] =  2\n",
            "   Perulangan dalam [i, j] =  2, 0\n",
            "   Perulangan dalam [i, j] =  2, 1\n",
            "   Perulangan dalam [i, j] =  2, 2\n",
            "   Perulangan dalam [i, j] =  2, 3\n",
            "   Perulangan dalam [i, j] =  2, 4\n"
          ]
        }
      ]
    },
    {
      "cell_type": "code",
      "source": [
        "# Init\n",
        "animals = [\"Bears\", \"Lions\", \"Jaguars\"]\n",
        "\n",
        "# Tambah Panthers\n",
        "animals.append(\"Panthers\")\n",
        "\n",
        "# Urutkan dengan fungsi sort()\n",
        "animals.sort()\n",
        "\n",
        "# Perulangan menggunakan for\n",
        "for animal in animals:\n",
        "  print(animal)\n",
        "  "
      ],
      "metadata": {
        "colab": {
          "base_uri": "https://localhost:8080/"
        },
        "id": "I904qpHdZR-s",
        "outputId": "adf05fb9-6d1d-4acd-a117-4e0dba41eeb9"
      },
      "execution_count": 1,
      "outputs": [
        {
          "output_type": "stream",
          "name": "stdout",
          "text": [
            "Bears\n",
            "Jaguars\n",
            "Lions\n",
            "Panthers\n"
          ]
        }
      ]
    },
    {
      "cell_type": "markdown",
      "source": [
        "## Fungsi"
      ],
      "metadata": {
        "id": "Y7wQVgQSZTs1"
      }
    },
    {
      "cell_type": "code",
      "source": [
        "\n",
        "def halo_python():\n",
        "  print('Halo python!')\n",
        "\n",
        "\n",
        "# Panggil fungsi\n",
        "halo_python()\n"
      ],
      "metadata": {
        "id": "WRC65wX-qLFl"
      },
      "execution_count": 1,
      "outputs": []
    },
    {
      "cell_type": "code",
      "source": [
        "\n",
        "\n",
        "def sapa_nama(nama_panggilan):\n",
        "  print(f'Halo {nama_panggilan}, selamat datang!')\n",
        "\n",
        "\n",
        "sapa_nama('Kaka')\n",
        "sapa_nama('Irfansyah')\n"
      ],
      "metadata": {
        "colab": {
          "base_uri": "https://localhost:8080/"
        },
        "id": "cR4eMOrYuoS6",
        "outputId": "f6dee756-1462-4701-e0ef-ab5b8dc00416"
      },
      "execution_count": 2,
      "outputs": [
        {
          "output_type": "stream",
          "name": "stdout",
          "text": [
            "Halo Kaka, selamat datang!\n",
            "Halo Irfansyah, selamat datang!\n"
          ]
        }
      ]
    },
    {
      "cell_type": "code",
      "source": [
        "\n",
        "\n",
        "def luas_persegi (sisi):\n",
        "  return sisi * sisi\n",
        "\n",
        "\n",
        "# tidak menghasilkan output dalam CLI\n",
        "luas_persegi(10)\n",
        "\n",
        "\n",
        "# output fungsi luas_persegi, dimasukkan ke parameter fungsi print\n",
        "print('Luas persegi dengan sisi 4 adalah:', luas_persegi(4))\n",
        "\n",
        "\n",
        "# kita juga bisa simpan di dalam variabel\n",
        "persegi_besar = luas_persegi(100)\n",
        "persegi_kecil = luas_persegi(50)\n",
        "\n",
        "print('Total luas persegi besar dan kecil adalah:', persegi_besar + persegi_kecil)\n",
        "\n"
      ],
      "metadata": {
        "colab": {
          "base_uri": "https://localhost:8080/"
        },
        "id": "_HlsIJwtxcXc",
        "outputId": "948d5be4-42b7-41b9-93c7-930468ddd3c6"
      },
      "execution_count": 5,
      "outputs": [
        {
          "output_type": "stream",
          "name": "stdout",
          "text": [
            "Luas persegi dengan sisi 4 adalah: 16\n",
            "Total luas persegi besar dan kecil adalah: 12500\n"
          ]
        }
      ]
    },
    {
      "cell_type": "code",
      "source": [
        "\n",
        "kota = 'Bandung'\n",
        "\n",
        "def cetak_kota() :\n",
        "  print(kota)\n",
        "\n",
        "print('[panggil secara langsung]', kota)\n",
        "print('[panggil fungsi cetak_kota]', end=' ')\n",
        "\n",
        "cetak_kota()\n"
      ],
      "metadata": {
        "colab": {
          "base_uri": "https://localhost:8080/"
        },
        "id": "qCWyreXazaxO",
        "outputId": "e60a74a0-507f-4d5b-cfad-63424a0a588c"
      },
      "execution_count": 8,
      "outputs": [
        {
          "output_type": "stream",
          "name": "stdout",
          "text": [
            "[panggil secara langsung] Bandung\n",
            "[panggil fungsi cetak_kota] Bandung\n"
          ]
        }
      ]
    },
    {
      "cell_type": "code",
      "source": [
        "\n",
        "kota, provinsi = 'Bandung', 'Jawa Barat'\n",
        "\n",
        "def contoh_var_lokal():\n",
        "  provinsi = 'Jawa Timur'\n",
        "  print(kota, provinsi)\n",
        "\n",
        "print('[Panggil fungsi contoh_var_lokal()]')\n",
        "contoh_var_lokal()\n",
        "\n",
        "print('\\n[Panggil variabel secara langsung]')\n",
        "print(kota, provinsi)\n"
      ],
      "metadata": {
        "colab": {
          "base_uri": "https://localhost:8080/"
        },
        "id": "ak41QWiq00PI",
        "outputId": "d14acb52-65c8-4055-d08f-cad641d15d11"
      },
      "execution_count": 10,
      "outputs": [
        {
          "output_type": "stream",
          "name": "stdout",
          "text": [
            "[Panggil fungsi contoh_var_lokal()]\n",
            "Bandung Jawa Timur\n",
            "\n",
            "[Panggil variabel secara langsung]\n",
            "Bandung Jawa Timur\n"
          ]
        }
      ]
    },
    {
      "cell_type": "code",
      "source": [
        "import math\n",
        "import datetime\n",
        "\n",
        "print('Tanggal dan waktu sekarang: ', datetime.datetime.now())\n",
        "print('Nilai konstanta pi: ', math.pi)\n"
      ],
      "metadata": {
        "colab": {
          "base_uri": "https://localhost:8080/"
        },
        "id": "Ws9Ohx6UtJMr",
        "outputId": "ef2c255f-e81a-4db0-e3e8-e1bfd764aea1"
      },
      "execution_count": 1,
      "outputs": [
        {
          "output_type": "stream",
          "name": "stdout",
          "text": [
            "Tanggal dan waktu sekarang:  2023-03-18 07:52:36.314586\n",
            "Nilai konstanta pi:  3.141592653589793\n"
          ]
        }
      ]
    }
  ]
}